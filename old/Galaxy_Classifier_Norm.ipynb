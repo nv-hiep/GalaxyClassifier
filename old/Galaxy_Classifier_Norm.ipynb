{
  "nbformat": 4,
  "nbformat_minor": 0,
  "metadata": {
    "colab": {
      "name": "Galaxy_Classifier_Norm.ipynb",
      "provenance": [],
      "collapsed_sections": [],
      "toc_visible": true,
      "authorship_tag": "ABX9TyNi1uOr1q8alXLj6YaeT1tE",
      "include_colab_link": true
    },
    "kernelspec": {
      "name": "python3",
      "display_name": "Python 3"
    },
    "accelerator": "GPU"
  },
  "cells": [
    {
      "cell_type": "markdown",
      "metadata": {
        "id": "view-in-github",
        "colab_type": "text"
      },
      "source": [
        "<a href=\"https://colab.research.google.com/github/nv-hiep/galaxy_classifier/blob/master/Galaxy_Classifier_Norm.ipynb\" target=\"_parent\"><img src=\"https://colab.research.google.com/assets/colab-badge.svg\" alt=\"Open In Colab\"/></a>"
      ]
    },
    {
      "cell_type": "markdown",
      "metadata": {
        "id": "PC_Sqv7M_NlI"
      },
      "source": [
        "# **Galaxy Classification**"
      ]
    },
    {
      "cell_type": "markdown",
      "metadata": {
        "id": "1MRLIbGl_dLS"
      },
      "source": [
        "Galaxy Classification with Python/R, colab.\n",
        "\n",
        "Data: https://www.kaggle.com/c/galaxy-zoo-the-galaxy-challenge/data\n",
        "\n",
        "\n",
        "The Galaxy Zoo 2 decision tree: https://www.kaggle.com/c/galaxy-zoo-the-galaxy-challenge/overview/the-galaxy-zoo-decision-tree"
      ]
    },
    {
      "cell_type": "markdown",
      "metadata": {
        "id": "8yZEYyWWJ_d2"
      },
      "source": [
        "**Data Description**\n",
        "\n",
        "1. images_training: JPG images of 61578 galaxies. Files are named according to their GalaxyId.\n",
        "\n",
        "2. solutions_training: Probability distributions for the classifications for each of the training images.\n",
        "\n",
        "3. images_test: JPG images of 79975 galaxies. Files are name according to their GalaxyId. You will provide probabilities for each of these images. \n",
        "\n",
        "4. all_ones_benchmark: Sample submission file corresponding to the All Ones Benchmark\n",
        "\n",
        "5. all_zeros_benchmark: Sample submission file corresponding to the All Zeros Benchmark\n",
        "\n",
        "6. central_pixel_benchmark: Simple benchmark that clusters training galaxies according to the color in the center of the image and then assigns the associated probability values to like-colored images in the test set.\n",
        "\n",
        "The first column in each solution is labeled GalaxyID; this is a randomly-generated ID that only allows you to match the probability distributions with the images.\n",
        "\n",
        "The next 37 columns are all floating point numbers between 0 and 1 inclusive. These represent the morphology (or shape) of the galaxy in 37 different categories as identified by crowdsourced volunteer classifications as part of the Galaxy Zoo 2 project. These morphologies are related to probabilities for each category; a high number (close to 1) indicates that many users identified this morphology category for the galaxy with a high level of confidence. Low numbers for a category (close to 0) indicate the feature is likely not present. "
      ]
    },
    {
      "cell_type": "markdown",
      "metadata": {
        "id": "z7slQ9Y9f7Sr"
      },
      "source": [
        "# Import Libraries"
      ]
    },
    {
      "cell_type": "code",
      "metadata": {
        "id": "pLXcM68QdTTR"
      },
      "source": [
        "# Python ≥3.5 is required\n",
        "import sys\n",
        "assert sys.version_info >= (3, 5)\n",
        "\n",
        "# Scikit-Learn ≥0.20 is required\n",
        "import sklearn\n",
        "assert sklearn.__version__ >= '0.20'\n",
        "\n",
        "try:\n",
        "    # %tensorflow_version only exists in Colab.\n",
        "    %tensorflow_version 2.x\n",
        "    IS_COLAB = True\n",
        "except Exception:\n",
        "    IS_COLAB = False\n",
        "\n",
        "# TensorFlow ≥2.0 is required\n",
        "import tensorflow as tf\n",
        "from tensorflow import keras\n",
        "assert tf.__version__ >= '2.0'\n",
        "\n",
        "if not tf.config.list_physical_devices('GPU'):\n",
        "    print('No GPU was detected. LSTMs and CNNs can be very slow without a GPU.')\n",
        "    if IS_COLAB:\n",
        "        print('Go to Runtime > Change runtime and select a GPU hardware accelerator.')\n",
        "\n",
        "# Common imports\n",
        "import os\n",
        "import random\n",
        "import shutil\n",
        "import itertools\n",
        "import glob\n",
        "import string\n",
        "import pickle\n",
        "import json\n",
        "import re\n",
        "\n",
        "from bson import json_util\n",
        "\n",
        "import numpy as np\n",
        "import matplotlib.image as mpimg\n",
        "import pandas as pd\n",
        "\n",
        "from tqdm import tqdm\n",
        "from time import time\n",
        "from PIL import Image\n",
        "from datetime import date\n",
        "\n",
        "\n",
        "# to make this notebook's output stable across runs\n",
        "np.random.seed(42)\n",
        "tf.random.set_seed(42)\n",
        "\n",
        "# To plot pretty figures\n",
        "%matplotlib inline\n",
        "import matplotlib as mpl\n",
        "import matplotlib.pyplot as plt\n",
        "import seaborn as sns\n",
        "\n",
        "# mpl.rc('axes', labelsize=14)\n",
        "# mpl.rc('xtick', labelsize=12)\n",
        "# mpl.rc('ytick', labelsize=12)"
      ],
      "execution_count": 1,
      "outputs": []
    },
    {
      "cell_type": "code",
      "metadata": {
        "id": "M3cWo7hhc-qO",
        "colab": {
          "base_uri": "https://localhost:8080/",
          "height": 52
        },
        "outputId": "811811ba-da10-41c9-db18-a613166ebc1a"
      },
      "source": [
        "print(tf.__version__)\n",
        "tf.test.gpu_device_name()"
      ],
      "execution_count": 2,
      "outputs": [
        {
          "output_type": "stream",
          "name": "stdout",
          "text": [
            "2.6.0\n"
          ]
        },
        {
          "output_type": "execute_result",
          "data": {
            "application/vnd.google.colaboratory.intrinsic+json": {
              "type": "string"
            },
            "text/plain": [
              "'/device:GPU:0'"
            ]
          },
          "metadata": {},
          "execution_count": 2
        }
      ]
    },
    {
      "cell_type": "code",
      "metadata": {
        "id": "8R6z4O9PitDp"
      },
      "source": [
        "# from urllib.request import urlopen\n",
        "# from io import BytesIO\n",
        "# from zipfile import ZipFile"
      ],
      "execution_count": null,
      "outputs": []
    },
    {
      "cell_type": "code",
      "metadata": {
        "id": "srBiJiFEaKl1",
        "colab": {
          "base_uri": "https://localhost:8080/"
        },
        "outputId": "1e4cd3a4-b025-4c38-af81-af75f606ffb2"
      },
      "source": [
        "# Check if NVIDIA GPU is enabled\n",
        "!nvidia-smi"
      ],
      "execution_count": 3,
      "outputs": [
        {
          "output_type": "stream",
          "name": "stdout",
          "text": [
            "Thu Oct 14 06:32:53 2021       \n",
            "+-----------------------------------------------------------------------------+\n",
            "| NVIDIA-SMI 470.74       Driver Version: 460.32.03    CUDA Version: 11.2     |\n",
            "|-------------------------------+----------------------+----------------------+\n",
            "| GPU  Name        Persistence-M| Bus-Id        Disp.A | Volatile Uncorr. ECC |\n",
            "| Fan  Temp  Perf  Pwr:Usage/Cap|         Memory-Usage | GPU-Util  Compute M. |\n",
            "|                               |                      |               MIG M. |\n",
            "|===============================+======================+======================|\n",
            "|   0  Tesla K80           Off  | 00000000:00:04.0 Off |                    0 |\n",
            "| N/A   38C    P0    60W / 149W |    121MiB / 11441MiB |      0%      Default |\n",
            "|                               |                      |                  N/A |\n",
            "+-------------------------------+----------------------+----------------------+\n",
            "                                                                               \n",
            "+-----------------------------------------------------------------------------+\n",
            "| Processes:                                                                  |\n",
            "|  GPU   GI   CI        PID   Type   Process name                  GPU Memory |\n",
            "|        ID   ID                                                   Usage      |\n",
            "|=============================================================================|\n",
            "|  No running processes found                                                 |\n",
            "+-----------------------------------------------------------------------------+\n"
          ]
        }
      ]
    },
    {
      "cell_type": "markdown",
      "metadata": {
        "id": "EBVnYdjegs6x"
      },
      "source": [
        "# Connect and authorize google drive"
      ]
    },
    {
      "cell_type": "code",
      "metadata": {
        "id": "PjjcQSpya_FR",
        "colab": {
          "base_uri": "https://localhost:8080/"
        },
        "outputId": "3b15eb0b-d1de-4fc8-d8fe-7504176b2bf8"
      },
      "source": [
        "from google.colab import drive\n",
        "drive.mount('/content/gdrive')\n",
        "!ls"
      ],
      "execution_count": 6,
      "outputs": [
        {
          "output_type": "stream",
          "name": "stdout",
          "text": [
            "Mounted at /content/gdrive\n",
            "gdrive\tsample_data\n"
          ]
        }
      ]
    },
    {
      "cell_type": "markdown",
      "metadata": {
        "id": "h5GywMhIKCd0"
      },
      "source": [
        "**Project \"Galaxy Classifier\" directory in google drive:**"
      ]
    },
    {
      "cell_type": "code",
      "metadata": {
        "id": "iYM4wmy-cFlK"
      },
      "source": [
        "# %cd /content/gdrive/My Drive/\n",
        "%cd /content/gdrive/My Drive/Colab Notebooks/galaxy_classifier/\n",
        "!ls"
      ],
      "execution_count": null,
      "outputs": []
    },
    {
      "cell_type": "markdown",
      "metadata": {
        "id": "O7CYSllU-tyf"
      },
      "source": [
        "**Data for \"Galaxy Classifier\" directory in google drive:**"
      ]
    },
    {
      "cell_type": "code",
      "metadata": {
        "id": "zbtyUhYA_AxZ",
        "colab": {
          "base_uri": "https://localhost:8080/"
        },
        "outputId": "10ca2de6-6cfa-4bd8-96d3-539e53c77229"
      },
      "source": [
        "%cd /content/gdrive/My Drive/data/galaxy_data/\n",
        "!ls"
      ],
      "execution_count": 8,
      "outputs": [
        {
          "output_type": "stream",
          "name": "stdout",
          "text": [
            "/content/gdrive/My Drive/data/galaxy_data\n",
            "plots.png  test\t\t    train_hist_dict_rgb  training_solutions_rev1.csv\n",
            "preview    train_hist_dict  training\t\t validation\n"
          ]
        }
      ]
    },
    {
      "cell_type": "markdown",
      "metadata": {
        "id": "x8Yf_lS7gPpx"
      },
      "source": [
        "# Data path"
      ]
    },
    {
      "cell_type": "code",
      "metadata": {
        "id": "Z9d185J9_xQZ",
        "colab": {
          "base_uri": "https://localhost:8080/"
        },
        "outputId": "bbf160a8-d9f3-4878-bf27-99d3d494db9f"
      },
      "source": [
        "current_dir = os.getcwd()\n",
        "print(current_dir)\n",
        "\n",
        "data_path    = '/content/gdrive/My Drive/data/galaxy_data'\n",
        "training_dir = os.path.join(data_path, 'training')\n",
        "valid_dir    = os.path.join(data_path, 'validation')"
      ],
      "execution_count": 9,
      "outputs": [
        {
          "output_type": "stream",
          "name": "stdout",
          "text": [
            "/content/gdrive/My Drive/data/galaxy_data\n"
          ]
        }
      ]
    },
    {
      "cell_type": "code",
      "metadata": {
        "id": "k-5r2CqsBEiL",
        "colab": {
          "base_uri": "https://localhost:8080/"
        },
        "outputId": "1879e2ae-0e99-4359-ff19-278c3c1dc549"
      },
      "source": [
        "# Get the total images in the training and validation dataset, this should be around 8619 images for training, and 2875 for validation.\n",
        "total_train = 0\n",
        "for c in ['elliptical', 'lenticular', 'spiral']:\n",
        "  total_train += len(os.listdir(os.path.join(training_dir, c)))\n",
        "print('Total train:', total_train)\n",
        "\n",
        "total_validation = 0\n",
        "for c in ['elliptical', 'lenticular', 'spiral']:\n",
        "  total_validation += len(os.listdir(os.path.join(valid_dir, c)))\n",
        "print('Total validation:', total_validation)"
      ],
      "execution_count": 10,
      "outputs": [
        {
          "output_type": "stream",
          "name": "stdout",
          "text": [
            "Total train: 8619\n",
            "Total validation: 2875\n"
          ]
        }
      ]
    },
    {
      "cell_type": "markdown",
      "metadata": {
        "id": "XaKeta_MjlIe"
      },
      "source": [
        "# Data Augmentation"
      ]
    },
    {
      "cell_type": "code",
      "metadata": {
        "id": "js-AVsr_BsI5",
        "colab": {
          "base_uri": "https://localhost:8080/"
        },
        "outputId": "5f585dce-26bf-41a2-bca6-62a623444680"
      },
      "source": [
        "dir_augmented_data = os.path.join(data_path, 'preview')\n",
        "try:\n",
        "    ## if the preview folder does not exist, create\n",
        "    os.mkdir(dir_augmented_data)\n",
        "except:\n",
        "    ## if the preview folder exists, then remove\n",
        "    ## the contents (pictures) in the folder\n",
        "    for item in os.listdir(dir_augmented_data):\n",
        "        os.remove(dir_augmented_data + \"/\" + item)\n",
        "\n",
        "\n",
        "# Resize the images to (x, x) pixels\n",
        "target_size = (150, 150)\n",
        "\n",
        "# Set the batch size.\n",
        "batch_size = 32\n",
        "\n",
        "# Color channels\n",
        "color_channels = 3\n",
        "\n",
        "\n",
        "# Create the data generator for both sets, but now with image augmentation,\n",
        "# where random operations are made on images like random shifts or rotationson each batch,\n",
        "# stil do the rescale and set the target size.\n",
        "\n",
        "# datagen for training set\n",
        "train_datagen = tf.keras.preprocessing.image.ImageDataGenerator(\n",
        "                    rescale            = 1./255.,\n",
        "                    rotation_range     = 25,\n",
        "                    width_shift_range  = 0.15,\n",
        "                    height_shift_range = 0.15,\n",
        "                    horizontal_flip    = True,\n",
        "                    zoom_range         = 0.2)\n",
        "\n",
        "\n",
        "train_generator = train_datagen.flow_from_directory(training_dir,\n",
        "                                                    target_size = target_size,\n",
        "                                                    batch_size  = batch_size,\n",
        "                                                    shuffle     = True,\n",
        "                                                    class_mode  = 'categorical')\n",
        "\n",
        "\n",
        "# datagen for validation set\n",
        "validation_datagen  = tf.keras.preprocessing.image.ImageDataGenerator(rescale=1./255.)\n",
        "validation_generator = validation_datagen.flow_from_directory(valid_dir,\n",
        "                                                         target_size = target_size,\n",
        "                                                         batch_size  = batch_size,\n",
        "                                                         shuffle     = False,\n",
        "                                                         class_mode  = 'categorical')\n",
        "\n",
        "allclasses = train_generator.class_indices    \n",
        "print('ALL classes:')\n",
        "print(allclasses)"
      ],
      "execution_count": 12,
      "outputs": [
        {
          "output_type": "stream",
          "name": "stdout",
          "text": [
            "Found 8619 images belonging to 3 classes.\n",
            "Found 2875 images belonging to 3 classes.\n",
            "ALL classes:\n",
            "{'elliptical': 0, 'lenticular': 1, 'spiral': 2}\n"
          ]
        }
      ]
    },
    {
      "cell_type": "code",
      "metadata": {
        "id": "LWZbSskHDCRL"
      },
      "source": [
        "# To see what's going on this data augmentation, run the following\n",
        "if False:\n",
        "  i = 0\n",
        "  for batch in train_datagen.flow_from_directory(training_dir,\n",
        "      target_size = target_size, batch_size  = batch_size,\n",
        "      save_to_dir = dir_augmented_data, save_prefix = 'pic', save_format = 'png',\n",
        "      color_mode = 'grayscale', shuffle = True, class_mode  = 'categorical'):\n",
        "\n",
        "      i += 1\n",
        "      if i > 5: # save 20 images\n",
        "          break  # otherwise the generator would loop indefinitely"
      ],
      "execution_count": null,
      "outputs": []
    },
    {
      "cell_type": "markdown",
      "metadata": {
        "id": "7UwZ1nelD3XB"
      },
      "source": [
        "# **The model**"
      ]
    },
    {
      "cell_type": "code",
      "metadata": {
        "id": "unuFSoz9D2zd",
        "colab": {
          "base_uri": "https://localhost:8080/"
        },
        "outputId": "01915ff6-afbc-4c74-a622-0bc7a429314f"
      },
      "source": [
        "# Create the model, using a sequence of convolution and pooling layers,\n",
        "# followed by a dropout layer, a fully connected layer, and the last softmax layer.\n",
        "\n",
        "# Xem: https://forum.machinelearningcoban.com/t/tutorial-tinh-so-luong-parameters-trong-convolutional-neural-network/3638\n",
        "\n",
        "\n",
        "model = tf.keras.models.Sequential([\n",
        "    # first convolution layer, input is an 64x64 image x3 colors\n",
        "    # 64 filters, with a size of (3x3) for each filter (each filter has 3x3 = 9 weights)\n",
        "    # e.g: input = 28x28 pixels\n",
        "    #      kernel filter = (3,3)\n",
        "    #      No. of filters: 32\n",
        "    #     -> Output of Conv2D layer: (28 x 28 x 32)\n",
        "    tf.keras.layers.Conv2D(64, (3,3), activation='relu',\n",
        "                           input_shape=(target_size[0],target_size[1], color_channels)),\n",
        "    tf.keras.layers.MaxPooling2D(2, 2),\n",
        "    \n",
        "    # second convolution layer\n",
        "    tf.keras.layers.Conv2D(64, (3,3), activation='relu'),\n",
        "    tf.keras.layers.MaxPooling2D(2,2),\n",
        "    \n",
        "    # third convolution layer\n",
        "    tf.keras.layers.Conv2D(128, (3,3), activation='relu'),\n",
        "    tf.keras.layers.MaxPooling2D(2,2),\n",
        "    \n",
        "    # fourth convolution layer\n",
        "    tf.keras.layers.Conv2D(128, (3,3), activation='relu'),\n",
        "    tf.keras.layers.MaxPooling2D(2,2),\n",
        "    \n",
        "    # flatten the image pixels\n",
        "    tf.keras.layers.Flatten(),\n",
        "    tf.keras.layers.Dropout(0.5),\n",
        "    \n",
        "    # 512 neuron fully connected hidden layer\n",
        "    tf.keras.layers.Dense(512, activation='relu'),\n",
        "    tf.keras.layers.Dense(3, activation='softmax')\n",
        "])\n",
        "\n",
        "model.summary()  # inspect model"
      ],
      "execution_count": 15,
      "outputs": [
        {
          "output_type": "stream",
          "name": "stdout",
          "text": [
            "Model: \"sequential\"\n",
            "_________________________________________________________________\n",
            "Layer (type)                 Output Shape              Param #   \n",
            "=================================================================\n",
            "conv2d (Conv2D)              (None, 148, 148, 64)      1792      \n",
            "_________________________________________________________________\n",
            "max_pooling2d (MaxPooling2D) (None, 74, 74, 64)        0         \n",
            "_________________________________________________________________\n",
            "conv2d_1 (Conv2D)            (None, 72, 72, 64)        36928     \n",
            "_________________________________________________________________\n",
            "max_pooling2d_1 (MaxPooling2 (None, 36, 36, 64)        0         \n",
            "_________________________________________________________________\n",
            "conv2d_2 (Conv2D)            (None, 34, 34, 128)       73856     \n",
            "_________________________________________________________________\n",
            "max_pooling2d_2 (MaxPooling2 (None, 17, 17, 128)       0         \n",
            "_________________________________________________________________\n",
            "conv2d_3 (Conv2D)            (None, 15, 15, 128)       147584    \n",
            "_________________________________________________________________\n",
            "max_pooling2d_3 (MaxPooling2 (None, 7, 7, 128)         0         \n",
            "_________________________________________________________________\n",
            "flatten (Flatten)            (None, 6272)              0         \n",
            "_________________________________________________________________\n",
            "dropout (Dropout)            (None, 6272)              0         \n",
            "_________________________________________________________________\n",
            "dense (Dense)                (None, 512)               3211776   \n",
            "_________________________________________________________________\n",
            "dense_1 (Dense)              (None, 3)                 1539      \n",
            "=================================================================\n",
            "Total params: 3,473,475\n",
            "Trainable params: 3,473,475\n",
            "Non-trainable params: 0\n",
            "_________________________________________________________________\n"
          ]
        }
      ]
    },
    {
      "cell_type": "code",
      "metadata": {
        "id": "W7LGDQggh3IQ"
      },
      "source": [
        "# Compile the model to use a categorical cross entropy loss function, and a adam optmizier.\n",
        "from tensorflow.keras import losses\n",
        "loss_fcn = tf.keras.losses.CategoricalCrossentropy(from_logits=False,\n",
        "                                              label_smoothing=0,\n",
        "                                              reduction=\"auto\",\n",
        "                                              name=\"categorical_crossentropy\"\n",
        "                                            )\n",
        "model.compile(loss=loss_fcn,\n",
        "              optimizer='adam',\n",
        "              metrics=['accuracy'])"
      ],
      "execution_count": 16,
      "outputs": []
    },
    {
      "cell_type": "markdown",
      "metadata": {
        "id": "H-4AmqaAERs0"
      },
      "source": [
        "# **Train the model**"
      ]
    },
    {
      "cell_type": "code",
      "metadata": {
        "id": "CQhNBK5AkFy5"
      },
      "source": [
        "# Use callbacks\n",
        "early_stop = tf.keras.callbacks.EarlyStopping(monitor = 'val_accuracy',\n",
        "                                              mode = 'max',\n",
        "                                              patience=10,\n",
        "                                              restore_best_weights=False\n",
        "                                            )"
      ],
      "execution_count": 19,
      "outputs": []
    },
    {
      "cell_type": "code",
      "metadata": {
        "id": "SyZ5ojm9jQEd"
      },
      "source": [
        "reduce_lr = tf.keras.callbacks.ReduceLROnPlateau(monitor='val_loss',\n",
        "                                                 factor=0.2,\n",
        "                                                 patience=5,\n",
        "                                                 min_lr=0.001\n",
        "                                                )"
      ],
      "execution_count": 20,
      "outputs": []
    },
    {
      "cell_type": "code",
      "metadata": {
        "id": "z1qKZFywi8kT"
      },
      "source": [
        "def scheduler(epoch, lr):\n",
        "  if epoch < 10:\n",
        "    return lr\n",
        "  else:\n",
        "    return lr * tf.math.exp(-0.1)\n",
        "\n",
        "lr_callback = tf.keras.callbacks.LearningRateScheduler(scheduler)"
      ],
      "execution_count": 21,
      "outputs": []
    },
    {
      "cell_type": "code",
      "metadata": {
        "colab": {
          "base_uri": "https://localhost:8080/"
        },
        "id": "q9TTyCgqiWqB",
        "outputId": "8caee30e-5e99-4adb-96ab-87f6184b6a78"
      },
      "source": [
        "EPOCHS = 100\n",
        "\n",
        "history = model.fit(train_generator,\n",
        "                    epochs=EPOCHS,\n",
        "                    steps_per_epoch=train_generator.samples//train_generator.batch_size,\n",
        "                    validation_data=validation_generator,\n",
        "                    validation_steps=len(validation_generator)//batch_size,\n",
        "                    # callbacks=[early_stop], # use callbacks\n",
        "                    verbose=True)"
      ],
      "execution_count": 23,
      "outputs": [
        {
          "output_type": "stream",
          "name": "stdout",
          "text": [
            "Epoch 1/100\n",
            "269/269 [==============================] - 4196s 15s/step - loss: 0.7926 - accuracy: 0.5675 - val_loss: 0.8586 - val_accuracy: 0.4375\n",
            "Epoch 2/100\n",
            "269/269 [==============================] - 90s 333ms/step - loss: 0.6371 - accuracy: 0.6597 - val_loss: 0.5055 - val_accuracy: 0.8750\n",
            "Epoch 3/100\n",
            "269/269 [==============================] - 89s 332ms/step - loss: 0.5748 - accuracy: 0.6947 - val_loss: 0.4018 - val_accuracy: 0.9688\n",
            "Epoch 4/100\n",
            "269/269 [==============================] - 89s 331ms/step - loss: 0.5389 - accuracy: 0.7228 - val_loss: 0.7270 - val_accuracy: 0.6250\n",
            "Epoch 5/100\n",
            "269/269 [==============================] - 90s 333ms/step - loss: 0.5083 - accuracy: 0.7440 - val_loss: 0.2347 - val_accuracy: 1.0000\n",
            "Epoch 6/100\n",
            "269/269 [==============================] - 89s 332ms/step - loss: 0.4915 - accuracy: 0.7615 - val_loss: 0.4113 - val_accuracy: 0.9219\n",
            "Epoch 7/100\n",
            "269/269 [==============================] - 89s 331ms/step - loss: 0.4762 - accuracy: 0.7683 - val_loss: 0.6596 - val_accuracy: 0.7031\n",
            "Epoch 8/100\n",
            "269/269 [==============================] - 90s 333ms/step - loss: 0.4646 - accuracy: 0.7829 - val_loss: 0.3370 - val_accuracy: 0.9531\n",
            "Epoch 9/100\n",
            "269/269 [==============================] - 89s 330ms/step - loss: 0.4519 - accuracy: 0.7907 - val_loss: 0.4276 - val_accuracy: 0.8750\n",
            "Epoch 10/100\n",
            "269/269 [==============================] - 89s 332ms/step - loss: 0.4487 - accuracy: 0.7900 - val_loss: 0.3737 - val_accuracy: 0.8594\n",
            "Epoch 11/100\n",
            "269/269 [==============================] - 89s 332ms/step - loss: 0.4294 - accuracy: 0.8010 - val_loss: 0.6080 - val_accuracy: 0.7188\n",
            "Epoch 12/100\n",
            "269/269 [==============================] - 90s 334ms/step - loss: 0.4345 - accuracy: 0.8017 - val_loss: 0.2937 - val_accuracy: 0.9062\n",
            "Epoch 13/100\n",
            "269/269 [==============================] - 90s 334ms/step - loss: 0.4392 - accuracy: 0.7947 - val_loss: 0.3039 - val_accuracy: 0.9844\n",
            "Epoch 14/100\n",
            "269/269 [==============================] - 90s 335ms/step - loss: 0.4173 - accuracy: 0.8106 - val_loss: 0.4374 - val_accuracy: 0.8594\n",
            "Epoch 15/100\n",
            "269/269 [==============================] - 89s 332ms/step - loss: 0.4226 - accuracy: 0.8060 - val_loss: 0.2214 - val_accuracy: 0.9219\n",
            "Epoch 16/100\n",
            "269/269 [==============================] - 89s 333ms/step - loss: 0.4049 - accuracy: 0.8168 - val_loss: 0.5087 - val_accuracy: 0.7969\n",
            "Epoch 17/100\n",
            "269/269 [==============================] - 90s 333ms/step - loss: 0.4166 - accuracy: 0.8106 - val_loss: 0.3356 - val_accuracy: 0.8906\n",
            "Epoch 18/100\n",
            "269/269 [==============================] - 90s 335ms/step - loss: 0.4129 - accuracy: 0.8144 - val_loss: 0.3330 - val_accuracy: 0.9062\n",
            "Epoch 19/100\n",
            "269/269 [==============================] - 89s 332ms/step - loss: 0.4105 - accuracy: 0.8098 - val_loss: 0.2257 - val_accuracy: 0.9688\n",
            "Epoch 20/100\n",
            "269/269 [==============================] - 90s 333ms/step - loss: 0.4134 - accuracy: 0.8147 - val_loss: 0.5335 - val_accuracy: 0.7969\n",
            "Epoch 21/100\n",
            "269/269 [==============================] - 90s 333ms/step - loss: 0.4036 - accuracy: 0.8172 - val_loss: 0.2539 - val_accuracy: 0.9375\n",
            "Epoch 22/100\n",
            "269/269 [==============================] - 89s 332ms/step - loss: 0.3977 - accuracy: 0.8190 - val_loss: 0.3345 - val_accuracy: 0.8594\n",
            "Epoch 23/100\n",
            "269/269 [==============================] - 90s 333ms/step - loss: 0.4020 - accuracy: 0.8146 - val_loss: 0.2182 - val_accuracy: 0.9844\n",
            "Epoch 24/100\n",
            "269/269 [==============================] - 88s 328ms/step - loss: 0.3910 - accuracy: 0.8269 - val_loss: 0.3163 - val_accuracy: 0.9219\n",
            "Epoch 25/100\n",
            "269/269 [==============================] - 89s 330ms/step - loss: 0.4008 - accuracy: 0.8158 - val_loss: 0.2266 - val_accuracy: 0.9219\n",
            "Epoch 26/100\n",
            "269/269 [==============================] - 89s 332ms/step - loss: 0.3887 - accuracy: 0.8280 - val_loss: 0.3856 - val_accuracy: 0.8438\n",
            "Epoch 27/100\n",
            "269/269 [==============================] - 89s 330ms/step - loss: 0.3940 - accuracy: 0.8269 - val_loss: 0.3203 - val_accuracy: 0.9062\n",
            "Epoch 28/100\n",
            "269/269 [==============================] - 89s 330ms/step - loss: 0.3908 - accuracy: 0.8251 - val_loss: 0.2386 - val_accuracy: 0.9219\n",
            "Epoch 29/100\n",
            "269/269 [==============================] - 91s 339ms/step - loss: 0.3814 - accuracy: 0.8293 - val_loss: 0.2869 - val_accuracy: 0.8906\n",
            "Epoch 30/100\n",
            "269/269 [==============================] - 91s 340ms/step - loss: 0.3868 - accuracy: 0.8252 - val_loss: 0.2681 - val_accuracy: 0.9219\n",
            "Epoch 31/100\n",
            "269/269 [==============================] - 89s 331ms/step - loss: 0.3793 - accuracy: 0.8311 - val_loss: 0.5791 - val_accuracy: 0.7656\n",
            "Epoch 32/100\n",
            "269/269 [==============================] - 90s 335ms/step - loss: 0.3939 - accuracy: 0.8260 - val_loss: 0.2961 - val_accuracy: 0.9375\n",
            "Epoch 33/100\n",
            "269/269 [==============================] - 90s 334ms/step - loss: 0.3788 - accuracy: 0.8296 - val_loss: 0.2109 - val_accuracy: 0.9688\n",
            "Epoch 34/100\n",
            "269/269 [==============================] - 89s 332ms/step - loss: 0.3850 - accuracy: 0.8295 - val_loss: 0.2311 - val_accuracy: 0.9688\n",
            "Epoch 35/100\n",
            "269/269 [==============================] - 90s 335ms/step - loss: 0.3815 - accuracy: 0.8285 - val_loss: 0.1723 - val_accuracy: 0.9688\n",
            "Epoch 36/100\n",
            "269/269 [==============================] - 89s 332ms/step - loss: 0.3861 - accuracy: 0.8254 - val_loss: 0.2972 - val_accuracy: 0.9062\n",
            "Epoch 37/100\n",
            "269/269 [==============================] - 91s 337ms/step - loss: 0.3881 - accuracy: 0.8264 - val_loss: 0.3158 - val_accuracy: 0.8750\n",
            "Epoch 38/100\n",
            "269/269 [==============================] - 90s 333ms/step - loss: 0.3751 - accuracy: 0.8322 - val_loss: 0.2757 - val_accuracy: 0.9062\n",
            "Epoch 39/100\n",
            "269/269 [==============================] - 89s 332ms/step - loss: 0.3780 - accuracy: 0.8341 - val_loss: 0.4778 - val_accuracy: 0.8281\n",
            "Epoch 40/100\n",
            "269/269 [==============================] - 89s 331ms/step - loss: 0.3791 - accuracy: 0.8324 - val_loss: 0.2561 - val_accuracy: 0.9219\n",
            "Epoch 41/100\n",
            "269/269 [==============================] - 89s 332ms/step - loss: 0.3639 - accuracy: 0.8367 - val_loss: 0.2599 - val_accuracy: 0.9062\n",
            "Epoch 42/100\n",
            "269/269 [==============================] - 90s 335ms/step - loss: 0.3828 - accuracy: 0.8238 - val_loss: 0.3122 - val_accuracy: 0.8438\n",
            "Epoch 43/100\n",
            "269/269 [==============================] - 91s 339ms/step - loss: 0.3823 - accuracy: 0.8280 - val_loss: 0.3482 - val_accuracy: 0.9062\n",
            "Epoch 44/100\n",
            "269/269 [==============================] - 90s 333ms/step - loss: 0.3708 - accuracy: 0.8345 - val_loss: 0.2800 - val_accuracy: 0.9375\n",
            "Epoch 45/100\n",
            "269/269 [==============================] - 91s 336ms/step - loss: 0.3714 - accuracy: 0.8321 - val_loss: 0.1913 - val_accuracy: 0.9531\n",
            "Epoch 46/100\n",
            "269/269 [==============================] - 90s 334ms/step - loss: 0.3775 - accuracy: 0.8299 - val_loss: 0.2797 - val_accuracy: 0.9375\n",
            "Epoch 47/100\n",
            "269/269 [==============================] - 89s 330ms/step - loss: 0.3739 - accuracy: 0.8300 - val_loss: 0.3428 - val_accuracy: 0.8750\n",
            "Epoch 48/100\n",
            "269/269 [==============================] - 92s 340ms/step - loss: 0.3748 - accuracy: 0.8306 - val_loss: 0.4156 - val_accuracy: 0.7969\n",
            "Epoch 49/100\n",
            "269/269 [==============================] - 90s 334ms/step - loss: 0.3682 - accuracy: 0.8322 - val_loss: 0.2873 - val_accuracy: 0.8906\n",
            "Epoch 50/100\n",
            "269/269 [==============================] - 90s 335ms/step - loss: 0.3622 - accuracy: 0.8414 - val_loss: 0.3457 - val_accuracy: 0.9062\n",
            "Epoch 51/100\n",
            "269/269 [==============================] - 90s 336ms/step - loss: 0.3604 - accuracy: 0.8406 - val_loss: 0.2925 - val_accuracy: 0.8750\n",
            "Epoch 52/100\n",
            "269/269 [==============================] - 88s 327ms/step - loss: 0.3663 - accuracy: 0.8339 - val_loss: 0.2048 - val_accuracy: 0.9688\n",
            "Epoch 53/100\n",
            "269/269 [==============================] - 88s 329ms/step - loss: 0.3698 - accuracy: 0.8357 - val_loss: 0.2105 - val_accuracy: 0.9375\n",
            "Epoch 54/100\n",
            "269/269 [==============================] - 89s 331ms/step - loss: 0.3655 - accuracy: 0.8332 - val_loss: 0.2739 - val_accuracy: 0.9375\n",
            "Epoch 55/100\n",
            "269/269 [==============================] - 88s 328ms/step - loss: 0.3613 - accuracy: 0.8408 - val_loss: 0.3799 - val_accuracy: 0.8750\n",
            "Epoch 56/100\n",
            "269/269 [==============================] - 89s 331ms/step - loss: 0.3653 - accuracy: 0.8350 - val_loss: 0.1912 - val_accuracy: 0.9375\n",
            "Epoch 57/100\n",
            "269/269 [==============================] - 88s 327ms/step - loss: 0.3646 - accuracy: 0.8377 - val_loss: 0.4134 - val_accuracy: 0.8281\n",
            "Epoch 58/100\n",
            "269/269 [==============================] - 89s 330ms/step - loss: 0.3572 - accuracy: 0.8409 - val_loss: 0.3264 - val_accuracy: 0.8594\n",
            "Epoch 59/100\n",
            "269/269 [==============================] - 89s 330ms/step - loss: 0.3565 - accuracy: 0.8420 - val_loss: 0.2712 - val_accuracy: 0.9062\n",
            "Epoch 60/100\n",
            "269/269 [==============================] - 89s 330ms/step - loss: 0.3660 - accuracy: 0.8373 - val_loss: 0.3622 - val_accuracy: 0.9062\n",
            "Epoch 61/100\n",
            "269/269 [==============================] - 88s 328ms/step - loss: 0.3592 - accuracy: 0.8398 - val_loss: 0.2012 - val_accuracy: 0.9688\n",
            "Epoch 62/100\n",
            "269/269 [==============================] - 89s 329ms/step - loss: 0.3638 - accuracy: 0.8396 - val_loss: 0.2217 - val_accuracy: 0.9375\n",
            "Epoch 63/100\n",
            "269/269 [==============================] - 89s 329ms/step - loss: 0.3560 - accuracy: 0.8442 - val_loss: 0.3151 - val_accuracy: 0.8750\n",
            "Epoch 64/100\n",
            "269/269 [==============================] - 88s 327ms/step - loss: 0.3586 - accuracy: 0.8446 - val_loss: 0.3370 - val_accuracy: 0.9375\n",
            "Epoch 65/100\n",
            "269/269 [==============================] - 89s 330ms/step - loss: 0.3623 - accuracy: 0.8378 - val_loss: 0.1415 - val_accuracy: 1.0000\n",
            "Epoch 66/100\n",
            "269/269 [==============================] - 88s 329ms/step - loss: 0.3584 - accuracy: 0.8423 - val_loss: 0.1641 - val_accuracy: 0.9531\n",
            "Epoch 67/100\n",
            "269/269 [==============================] - 88s 329ms/step - loss: 0.3634 - accuracy: 0.8398 - val_loss: 0.3885 - val_accuracy: 0.8281\n",
            "Epoch 68/100\n",
            "269/269 [==============================] - 88s 327ms/step - loss: 0.3573 - accuracy: 0.8375 - val_loss: 0.2869 - val_accuracy: 0.8594\n",
            "Epoch 69/100\n",
            "269/269 [==============================] - 88s 326ms/step - loss: 0.3589 - accuracy: 0.8377 - val_loss: 0.4048 - val_accuracy: 0.8125\n",
            "Epoch 70/100\n",
            "269/269 [==============================] - 90s 334ms/step - loss: 0.3440 - accuracy: 0.8481 - val_loss: 0.3490 - val_accuracy: 0.8750\n",
            "Epoch 71/100\n",
            "269/269 [==============================] - 91s 336ms/step - loss: 0.3684 - accuracy: 0.8360 - val_loss: 0.4506 - val_accuracy: 0.8125\n",
            "Epoch 72/100\n",
            "269/269 [==============================] - 91s 336ms/step - loss: 0.3521 - accuracy: 0.8437 - val_loss: 0.2443 - val_accuracy: 0.8906\n",
            "Epoch 73/100\n",
            "269/269 [==============================] - 90s 336ms/step - loss: 0.3623 - accuracy: 0.8384 - val_loss: 0.2522 - val_accuracy: 0.9062\n",
            "Epoch 74/100\n",
            "269/269 [==============================] - 90s 335ms/step - loss: 0.3519 - accuracy: 0.8433 - val_loss: 0.1625 - val_accuracy: 0.9844\n",
            "Epoch 75/100\n",
            "269/269 [==============================] - 90s 335ms/step - loss: 0.3530 - accuracy: 0.8488 - val_loss: 0.2273 - val_accuracy: 0.9531\n",
            "Epoch 76/100\n",
            "269/269 [==============================] - 89s 331ms/step - loss: 0.3509 - accuracy: 0.8421 - val_loss: 0.2646 - val_accuracy: 0.9062\n",
            "Epoch 77/100\n",
            "269/269 [==============================] - 90s 333ms/step - loss: 0.3548 - accuracy: 0.8403 - val_loss: 0.3851 - val_accuracy: 0.8594\n",
            "Epoch 78/100\n",
            "269/269 [==============================] - 90s 335ms/step - loss: 0.3544 - accuracy: 0.8435 - val_loss: 0.5560 - val_accuracy: 0.7344\n",
            "Epoch 79/100\n",
            "269/269 [==============================] - 90s 335ms/step - loss: 0.3543 - accuracy: 0.8400 - val_loss: 0.2890 - val_accuracy: 0.8750\n",
            "Epoch 80/100\n",
            "269/269 [==============================] - 90s 335ms/step - loss: 0.3573 - accuracy: 0.8399 - val_loss: 0.2550 - val_accuracy: 0.9062\n",
            "Epoch 81/100\n",
            "269/269 [==============================] - 90s 336ms/step - loss: 0.3540 - accuracy: 0.8402 - val_loss: 0.3283 - val_accuracy: 0.8594\n",
            "Epoch 82/100\n",
            "269/269 [==============================] - 91s 338ms/step - loss: 0.3517 - accuracy: 0.8413 - val_loss: 0.2319 - val_accuracy: 0.9062\n",
            "Epoch 83/100\n",
            "269/269 [==============================] - 90s 335ms/step - loss: 0.3484 - accuracy: 0.8451 - val_loss: 0.3965 - val_accuracy: 0.8438\n",
            "Epoch 84/100\n",
            "269/269 [==============================] - 90s 336ms/step - loss: 0.3503 - accuracy: 0.8477 - val_loss: 0.3703 - val_accuracy: 0.8750\n",
            "Epoch 85/100\n",
            "269/269 [==============================] - 90s 335ms/step - loss: 0.3428 - accuracy: 0.8519 - val_loss: 0.2953 - val_accuracy: 0.9219\n",
            "Epoch 86/100\n",
            "269/269 [==============================] - 90s 334ms/step - loss: 0.3431 - accuracy: 0.8464 - val_loss: 0.2679 - val_accuracy: 0.9219\n",
            "Epoch 87/100\n",
            "269/269 [==============================] - 91s 338ms/step - loss: 0.3596 - accuracy: 0.8368 - val_loss: 0.2992 - val_accuracy: 0.8750\n",
            "Epoch 88/100\n",
            "269/269 [==============================] - 91s 336ms/step - loss: 0.3538 - accuracy: 0.8417 - val_loss: 0.3342 - val_accuracy: 0.8594\n",
            "Epoch 89/100\n",
            "269/269 [==============================] - 91s 340ms/step - loss: 0.3555 - accuracy: 0.8427 - val_loss: 0.3089 - val_accuracy: 0.8750\n",
            "Epoch 90/100\n",
            "269/269 [==============================] - 91s 339ms/step - loss: 0.3450 - accuracy: 0.8479 - val_loss: 0.2186 - val_accuracy: 0.9219\n",
            "Epoch 91/100\n",
            "269/269 [==============================] - 91s 338ms/step - loss: 0.3538 - accuracy: 0.8399 - val_loss: 0.1740 - val_accuracy: 0.9844\n",
            "Epoch 92/100\n",
            "269/269 [==============================] - 91s 338ms/step - loss: 0.3515 - accuracy: 0.8424 - val_loss: 0.3515 - val_accuracy: 0.8594\n",
            "Epoch 93/100\n",
            "269/269 [==============================] - 91s 338ms/step - loss: 0.3495 - accuracy: 0.8462 - val_loss: 0.3056 - val_accuracy: 0.8594\n",
            "Epoch 94/100\n",
            "269/269 [==============================] - 92s 341ms/step - loss: 0.3573 - accuracy: 0.8423 - val_loss: 0.3205 - val_accuracy: 0.8594\n",
            "Epoch 95/100\n",
            "269/269 [==============================] - 91s 340ms/step - loss: 0.3456 - accuracy: 0.8458 - val_loss: 0.3308 - val_accuracy: 0.8594\n",
            "Epoch 96/100\n",
            "269/269 [==============================] - 91s 336ms/step - loss: 0.3493 - accuracy: 0.8431 - val_loss: 0.4689 - val_accuracy: 0.7969\n",
            "Epoch 97/100\n",
            "269/269 [==============================] - 91s 338ms/step - loss: 0.3545 - accuracy: 0.8421 - val_loss: 0.4176 - val_accuracy: 0.8438\n",
            "Epoch 98/100\n",
            "269/269 [==============================] - 91s 337ms/step - loss: 0.3523 - accuracy: 0.8421 - val_loss: 0.3750 - val_accuracy: 0.9062\n",
            "Epoch 99/100\n",
            "269/269 [==============================] - 91s 339ms/step - loss: 0.3431 - accuracy: 0.8443 - val_loss: 0.2811 - val_accuracy: 0.8750\n",
            "Epoch 100/100\n",
            "269/269 [==============================] - 91s 340ms/step - loss: 0.3409 - accuracy: 0.8470 - val_loss: 0.2387 - val_accuracy: 0.9375\n"
          ]
        }
      ]
    },
    {
      "cell_type": "code",
      "metadata": {
        "id": "oGGosCyAZxOT",
        "colab": {
          "base_uri": "https://localhost:8080/"
        },
        "outputId": "0107ca38-d524-4417-df53-dd3a2815f5b2"
      },
      "source": [
        "print(data_path + '/train_hist_dict.pkl')\n",
        "with open(data_path + '/train_hist_dict.pkl', 'wb') as file_hist:\n",
        "        pickle.dump(history.history, file_hist)"
      ],
      "execution_count": 24,
      "outputs": [
        {
          "output_type": "stream",
          "name": "stdout",
          "text": [
            "/content/gdrive/My Drive/data/galaxy_data/train_hist_dict.pkl\n"
          ]
        }
      ]
    },
    {
      "cell_type": "markdown",
      "metadata": {
        "id": "mdrdAAe7EY-P"
      },
      "source": [
        "**Finish training -> plot graphs**"
      ]
    },
    {
      "cell_type": "code",
      "metadata": {
        "id": "JmehHs96EZZ_",
        "colab": {
          "base_uri": "https://localhost:8080/",
          "height": 499
        },
        "outputId": "21585908-7703-4a6b-9e70-c43ba7c263f6"
      },
      "source": [
        "acc = history.history['accuracy']\n",
        "val_acc = history.history['val_accuracy']\n",
        "\n",
        "loss = history.history['loss']\n",
        "val_loss = history.history['val_loss']\n",
        "\n",
        "epochs_range = range(len(acc))  # range for the number of epochs\n",
        "\n",
        "plt.figure(figsize=(16, 8))\n",
        "plt.subplot(1, 2, 1)\n",
        "plt.plot(epochs_range, acc, label='Training Accuracy')\n",
        "plt.plot(epochs_range, val_acc, label='Validation Accuracy')\n",
        "plt.legend(loc='lower right')\n",
        "plt.title('Training and Validation Accuracy')\n",
        "\n",
        "plt.subplot(1, 2, 2)\n",
        "plt.plot(epochs_range, loss, label='Training Loss')\n",
        "plt.plot(epochs_range, val_loss, label='Validation Loss')\n",
        "plt.legend(loc='upper right')\n",
        "plt.title('Training and Validation Loss')\n",
        "plt.savefig(data_path + '/plots.png')\n",
        "plt.show()"
      ],
      "execution_count": 25,
      "outputs": [
        {
          "output_type": "display_data",
          "data": {
            "image/png": "[encoded data removed]",
            "text/plain": [
              "<Figure size 1152x576 with 2 Axes>"
            ]
          },
          "metadata": {
            "needs_background": "light"
          }
        }
      ]
    },
    {
      "cell_type": "markdown",
      "metadata": {
        "id": "1kNbUvFLEge9"
      },
      "source": [
        "# **Save the trained model**"
      ]
    },
    {
      "cell_type": "code",
      "metadata": {
        "id": "EEq7g0wZEjiP"
      },
      "source": [
        "model.save(data_path + '/galaxy_convnet_rgb.h5')"
      ],
      "execution_count": 26,
      "outputs": []
    }
  ]
}