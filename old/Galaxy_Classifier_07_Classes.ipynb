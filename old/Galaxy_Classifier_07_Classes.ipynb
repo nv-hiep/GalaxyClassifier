{
  "nbformat": 4,
  "nbformat_minor": 0,
  "metadata": {
    "colab": {
      "name": "Galaxy_Classifier_07_Classes.ipynb",
      "provenance": [],
      "collapsed_sections": [],
      "toc_visible": true,
      "authorship_tag": "ABX9TyMlFVX2MaJ3MxfMOI+4Cr0x",
      "include_colab_link": true
    },
    "kernelspec": {
      "name": "python3",
      "display_name": "Python 3"
    },
    "accelerator": "GPU"
  },
  "cells": [
    {
      "cell_type": "markdown",
      "metadata": {
        "id": "view-in-github",
        "colab_type": "text"
      },
      "source": [
        "<a href=\"https://colab.research.google.com/github/nv-hiep/galaxy_classifier/blob/master/Galaxy_Classifier_07_Classes.ipynb\" target=\"_parent\"><img src=\"https://colab.research.google.com/assets/colab-badge.svg\" alt=\"Open In Colab\"/></a>"
      ]
    },
    {
      "cell_type": "markdown",
      "metadata": {
        "id": "PC_Sqv7M_NlI"
      },
      "source": [
        "# **Galaxy Classification**"
      ]
    },
    {
      "cell_type": "markdown",
      "metadata": {
        "id": "1MRLIbGl_dLS"
      },
      "source": [
        "Galaxy Classification with Python/R, colab.\n",
        "\n",
        "Data: https://www.kaggle.com/c/galaxy-zoo-the-galaxy-challenge/data\n",
        "\n",
        "\n",
        "The Galaxy Zoo 2 decision tree: https://www.kaggle.com/c/galaxy-zoo-the-galaxy-challenge/overview/the-galaxy-zoo-decision-tree"
      ]
    },
    {
      "cell_type": "markdown",
      "metadata": {
        "id": "8yZEYyWWJ_d2"
      },
      "source": [
        "**Data Description**\n",
        "\n",
        "1. images_training: JPG images of 61578 galaxies. Files are named according to their GalaxyId.\n",
        "\n",
        "2. solutions_training: Probability distributions for the classifications for each of the training images.\n",
        "\n",
        "3. images_test: JPG images of 79975 galaxies. Files are name according to their GalaxyId. You will provide probabilities for each of these images. \n",
        "\n",
        "4. all_ones_benchmark: Sample submission file corresponding to the All Ones Benchmark\n",
        "\n",
        "5. all_zeros_benchmark: Sample submission file corresponding to the All Zeros Benchmark\n",
        "\n",
        "6. central_pixel_benchmark: Simple benchmark that clusters training galaxies according to the color in the center of the image and then assigns the associated probability values to like-colored images in the test set.\n",
        "\n",
        "The first column in each solution is labeled GalaxyID; this is a randomly-generated ID that only allows you to match the probability distributions with the images.\n",
        "\n",
        "The next 37 columns are all floating point numbers between 0 and 1 inclusive. These represent the morphology (or shape) of the galaxy in 37 different categories as identified by crowdsourced volunteer classifications as part of the Galaxy Zoo 2 project. These morphologies are related to probabilities for each category; a high number (close to 1) indicates that many users identified this morphology category for the galaxy with a high level of confidence. Low numbers for a category (close to 0) indicate the feature is likely not present. "
      ]
    },
    {
      "cell_type": "markdown",
      "metadata": {
        "id": "z7slQ9Y9f7Sr"
      },
      "source": [
        "# Import Libraries"
      ]
    },
    {
      "cell_type": "code",
      "metadata": {
        "id": "pLXcM68QdTTR"
      },
      "source": [
        "# Python ≥3.5 is required\n",
        "import sys\n",
        "assert sys.version_info >= (3, 5)\n",
        "\n",
        "# Scikit-Learn ≥0.20 is required\n",
        "import sklearn\n",
        "assert sklearn.__version__ >= '0.20'\n",
        "\n",
        "try:\n",
        "    # %tensorflow_version only exists in Colab.\n",
        "    %tensorflow_version 2.x\n",
        "    IS_COLAB = True\n",
        "except Exception:\n",
        "    IS_COLAB = False\n",
        "\n",
        "# TensorFlow ≥2.0 is required\n",
        "import tensorflow as tf\n",
        "from tensorflow import keras\n",
        "assert tf.__version__ >= '2.0'\n",
        "\n",
        "if not tf.config.list_physical_devices('GPU'):\n",
        "    print('No GPU was detected. LSTMs and CNNs can be very slow without a GPU.')\n",
        "    if IS_COLAB:\n",
        "        print('Go to Runtime > Change runtime and select a GPU hardware accelerator.')\n",
        "\n",
        "# Common imports\n",
        "import os\n",
        "import random\n",
        "import shutil\n",
        "import itertools\n",
        "import glob\n",
        "import string\n",
        "import pickle\n",
        "import json\n",
        "import re\n",
        "\n",
        "from bson import json_util\n",
        "\n",
        "import numpy as np\n",
        "import matplotlib.image as mpimg\n",
        "import pandas as pd\n",
        "\n",
        "from tqdm import tqdm\n",
        "from time import time\n",
        "from PIL import Image\n",
        "from datetime import date\n",
        "\n",
        "\n",
        "# to make this notebook's output stable across runs\n",
        "np.random.seed(42)\n",
        "tf.random.set_seed(42)\n",
        "\n",
        "# To plot pretty figures\n",
        "%matplotlib inline\n",
        "import matplotlib as mpl\n",
        "import matplotlib.pyplot as plt\n",
        "import seaborn as sns\n",
        "\n",
        "# mpl.rc('axes', labelsize=14)\n",
        "# mpl.rc('xtick', labelsize=12)\n",
        "# mpl.rc('ytick', labelsize=12)"
      ],
      "execution_count": 1,
      "outputs": []
    },
    {
      "cell_type": "code",
      "metadata": {
        "id": "M3cWo7hhc-qO",
        "colab": {
          "base_uri": "https://localhost:8080/",
          "height": 52
        },
        "outputId": "fb98981c-e65d-41a8-8cc3-88b63c8fb23f"
      },
      "source": [
        "print(tf.__version__)\n",
        "tf.test.gpu_device_name()"
      ],
      "execution_count": 2,
      "outputs": [
        {
          "output_type": "stream",
          "name": "stdout",
          "text": [
            "2.6.0\n"
          ]
        },
        {
          "output_type": "execute_result",
          "data": {
            "application/vnd.google.colaboratory.intrinsic+json": {
              "type": "string"
            },
            "text/plain": [
              "'/device:GPU:0'"
            ]
          },
          "metadata": {},
          "execution_count": 2
        }
      ]
    },
    {
      "cell_type": "code",
      "metadata": {
        "id": "8R6z4O9PitDp"
      },
      "source": [
        "# from urllib.request import urlopen\n",
        "# from io import BytesIO\n",
        "# from zipfile import ZipFile"
      ],
      "execution_count": null,
      "outputs": []
    },
    {
      "cell_type": "code",
      "metadata": {
        "id": "srBiJiFEaKl1",
        "colab": {
          "base_uri": "https://localhost:8080/"
        },
        "outputId": "a921dc82-ac83-41f8-82aa-297461156ace"
      },
      "source": [
        "# Check if NVIDIA GPU is enabled\n",
        "!nvidia-smi"
      ],
      "execution_count": 3,
      "outputs": [
        {
          "output_type": "stream",
          "name": "stdout",
          "text": [
            "Fri Oct 15 07:28:29 2021       \n",
            "+-----------------------------------------------------------------------------+\n",
            "| NVIDIA-SMI 470.74       Driver Version: 460.32.03    CUDA Version: 11.2     |\n",
            "|-------------------------------+----------------------+----------------------+\n",
            "| GPU  Name        Persistence-M| Bus-Id        Disp.A | Volatile Uncorr. ECC |\n",
            "| Fan  Temp  Perf  Pwr:Usage/Cap|         Memory-Usage | GPU-Util  Compute M. |\n",
            "|                               |                      |               MIG M. |\n",
            "|===============================+======================+======================|\n",
            "|   0  Tesla K80           Off  | 00000000:00:04.0 Off |                    0 |\n",
            "| N/A   41C    P0    55W / 149W |    121MiB / 11441MiB |      0%      Default |\n",
            "|                               |                      |                  N/A |\n",
            "+-------------------------------+----------------------+----------------------+\n",
            "                                                                               \n",
            "+-----------------------------------------------------------------------------+\n",
            "| Processes:                                                                  |\n",
            "|  GPU   GI   CI        PID   Type   Process name                  GPU Memory |\n",
            "|        ID   ID                                                   Usage      |\n",
            "|=============================================================================|\n",
            "|  No running processes found                                                 |\n",
            "+-----------------------------------------------------------------------------+\n"
          ]
        }
      ]
    },
    {
      "cell_type": "markdown",
      "metadata": {
        "id": "EBVnYdjegs6x"
      },
      "source": [
        "# Connect and authorize google drive"
      ]
    },
    {
      "cell_type": "code",
      "metadata": {
        "id": "PjjcQSpya_FR",
        "colab": {
          "base_uri": "https://localhost:8080/"
        },
        "outputId": "31893518-ce5a-426c-e2a8-4df933de0d71"
      },
      "source": [
        "from google.colab import drive\n",
        "drive.mount('/content/gdrive')\n",
        "!ls"
      ],
      "execution_count": 4,
      "outputs": [
        {
          "output_type": "stream",
          "name": "stdout",
          "text": [
            "Mounted at /content/gdrive\n",
            "gdrive\tsample_data\n"
          ]
        }
      ]
    },
    {
      "cell_type": "markdown",
      "metadata": {
        "id": "h5GywMhIKCd0"
      },
      "source": [
        "**Project \"Galaxy Classifier\" directory in google drive:**"
      ]
    },
    {
      "cell_type": "code",
      "metadata": {
        "id": "iYM4wmy-cFlK",
        "colab": {
          "base_uri": "https://localhost:8080/"
        },
        "outputId": "599c0700-bee0-40c3-a2b2-efa36e698513"
      },
      "source": [
        "# %cd /content/gdrive/My Drive/\n",
        "%cd /content/gdrive/My Drive/Colab Notebooks/galaxy_classifier/\n",
        "!ls"
      ],
      "execution_count": 5,
      "outputs": [
        {
          "output_type": "stream",
          "name": "stdout",
          "text": [
            "/content/gdrive/My Drive/Colab Notebooks/galaxy_classifier\n",
            "Data_Wrangling_07_Classes.ipynb\t\t   Galaxy_Classifier_Norm.ipynb\n",
            "Data_Wrangling.ipynb\t\t\t   predict.ipynb\n",
            "GalaxyClassification_DataAnalysis_R.ipynb  read_history.ipynb\n",
            "Galaxy_Classifier_07_Classes.ipynb\t   Recommendation_System_Model_R.ipynb\n",
            "galaxy_classifier.ipynb\n"
          ]
        }
      ]
    },
    {
      "cell_type": "markdown",
      "metadata": {
        "id": "O7CYSllU-tyf"
      },
      "source": [
        "**Data for \"Galaxy Classifier\" directory in google drive:**"
      ]
    },
    {
      "cell_type": "code",
      "metadata": {
        "id": "zbtyUhYA_AxZ",
        "colab": {
          "base_uri": "https://localhost:8080/"
        },
        "outputId": "27751ff3-4541-4968-c2df-08f28439b088"
      },
      "source": [
        "%cd /content/gdrive/My Drive/data/galaxy_data/\n",
        "!ls"
      ],
      "execution_count": 6,
      "outputs": [
        {
          "output_type": "stream",
          "name": "stdout",
          "text": [
            "/content/gdrive/My Drive/data/galaxy_data\n",
            "all_ones_benchmark.zip\t     kaggle.json\t    train_hist_dict_rgb_old\n",
            "all_zeros_benchmark.zip      plots_1.png\t    training\n",
            "central_pixel_benchmark.zip  plots_old.png\t    training_0\n",
            "galaxy_convnet_rgb_1.h5      preview\t\t    training_solutions_rev1.csv\n",
            "images_test_rev1.zip\t     test\t\t    training_solutions_rev1.zip\n",
            "images_training_rev1\t     train_hist_dict_1.pkl  validation\n",
            "images_training_rev1.zip     train_hist_dict_old    validation_0\n"
          ]
        }
      ]
    },
    {
      "cell_type": "markdown",
      "metadata": {
        "id": "x8Yf_lS7gPpx"
      },
      "source": [
        "# Data path"
      ]
    },
    {
      "cell_type": "code",
      "metadata": {
        "id": "Z9d185J9_xQZ",
        "colab": {
          "base_uri": "https://localhost:8080/"
        },
        "outputId": "14fbd270-13e7-4642-d2ef-8af24c472ec1"
      },
      "source": [
        "current_dir = os.getcwd()\n",
        "print(current_dir)\n",
        "\n",
        "data_path    = '/content/gdrive/My Drive/data/galaxy_data'\n",
        "training_dir = os.path.join(data_path, 'training')\n",
        "valid_dir    = os.path.join(data_path, 'validation')"
      ],
      "execution_count": 7,
      "outputs": [
        {
          "output_type": "stream",
          "name": "stdout",
          "text": [
            "/content/gdrive/My Drive/data/galaxy_data\n"
          ]
        }
      ]
    },
    {
      "cell_type": "code",
      "metadata": {
        "colab": {
          "base_uri": "https://localhost:8080/"
        },
        "id": "T7hhP8TPwLZo",
        "outputId": "2e6f59f7-3069-48d0-ae36-afcdfacab390"
      },
      "source": [
        "# Check the total number of training and validation samples:\n",
        "data_dir = data_path\n",
        "n_round_train           = len(os.listdir(os.path.join(data_dir, 'training', '0_completely_round_smooth')))\n",
        "n_inbetween_train       = len(os.listdir(os.path.join(data_dir, 'training', '1_in_between_smooth')))\n",
        "n_cigar_train           = len(os.listdir(os.path.join(data_dir, 'training', '2_cigar_shaped_smooth')))\n",
        "n_lenticular_train      = len(os.listdir(os.path.join(data_dir, 'training', '3_lenticulars')))\n",
        "n_barred_spriral_train  = len(os.listdir(os.path.join(data_dir, 'training', '4_barred_spirals')))\n",
        "n_unbarred_spiral_train = len(os.listdir(os.path.join(data_dir, 'training', '5_unbarred_spirals')))\n",
        "n_irregular_train       = len(os.listdir(os.path.join(data_dir, 'training', '6_irregular')))\n",
        "print('Total train 0_completely_round_smooth:', n_round_train)\n",
        "print('Total train 1_in_between_smooth:', n_inbetween_train)\n",
        "print('Total train 2_cigar_shaped_smooth:', n_cigar_train)\n",
        "print('Total train 3_lenticulars:', n_lenticular_train)\n",
        "print('Total train 4_barred_spirals:', n_barred_spriral_train)\n",
        "print('Total train 5_unbarred_spirals:', n_unbarred_spiral_train)\n",
        "print('Total train 6_irregular:', n_irregular_train)\n",
        "\n",
        "print()\n",
        "print()\n",
        "n_round_valid           = len(os.listdir(os.path.join(data_dir, 'validation', '0_completely_round_smooth')))\n",
        "n_inbetween_valid       = len(os.listdir(os.path.join(data_dir, 'validation', '1_in_between_smooth')))\n",
        "n_cigar_valid           = len(os.listdir(os.path.join(data_dir, 'validation', '2_cigar_shaped_smooth')))\n",
        "n_lenticular_valid      = len(os.listdir(os.path.join(data_dir, 'validation', '3_lenticulars')))\n",
        "n_barred_spriral_valid  = len(os.listdir(os.path.join(data_dir, 'validation', '4_barred_spirals')))\n",
        "n_unbarred_spiral_valid = len(os.listdir(os.path.join(data_dir, 'validation', '5_unbarred_spirals')))\n",
        "n_irregular_valid       = len(os.listdir(os.path.join(data_dir, 'validation', '6_irregular')))\n",
        "print('Total validation 0_completely_round_smooth:', n_round_valid)\n",
        "print('Total validation 1_in_between_smooth:', n_inbetween_valid)\n",
        "print('Total validation 2_cigar_shaped_smooth:', n_cigar_valid)\n",
        "print('Total validation 3_lenticulars:', n_lenticular_valid)\n",
        "print('Total validation 4_barred_spirals:', n_barred_spriral_valid)\n",
        "print('Total validation 5_unbarred_spirals:', n_unbarred_spiral_valid)\n",
        "print('Total validation 6_irregular:', n_irregular_valid)"
      ],
      "execution_count": 8,
      "outputs": [
        {
          "output_type": "stream",
          "name": "stdout",
          "text": [
            "Total train 0_completely_round_smooth: 5946\n",
            "Total train 1_in_between_smooth: 5718\n",
            "Total train 2_cigar_shaped_smooth: 430\n",
            "Total train 3_lenticulars: 2787\n",
            "Total train 4_barred_spirals: 620\n",
            "Total train 5_unbarred_spirals: 2525\n",
            "Total train 6_irregular: 1176\n",
            "\n",
            "\n",
            "Total validation 0_completely_round_smooth: 1983\n",
            "Total validation 1_in_between_smooth: 1906\n",
            "Total validation 2_cigar_shaped_smooth: 144\n",
            "Total validation 3_lenticulars: 929\n",
            "Total validation 4_barred_spirals: 207\n",
            "Total validation 5_unbarred_spirals: 842\n",
            "Total validation 6_irregular: 392\n"
          ]
        }
      ]
    },
    {
      "cell_type": "code",
      "metadata": {
        "id": "lIahUBQZu5Sh"
      },
      "source": [
        "classes = ['2_cigar_shaped_smooth',\n",
        " '4_barred_spirals',\n",
        " '6_irregular',\n",
        " '5_unbarred_spirals',\n",
        " '3_lenticulars',\n",
        " '1_in_between_smooth',\n",
        " '0_completely_round_smooth']"
      ],
      "execution_count": 9,
      "outputs": []
    },
    {
      "cell_type": "code",
      "metadata": {
        "id": "k-5r2CqsBEiL",
        "colab": {
          "base_uri": "https://localhost:8080/"
        },
        "outputId": "24fa4088-9b19-44a9-b8e0-f627d962d5b0"
      },
      "source": [
        "# Get the total images in the training and validation dataset, this should be around 8619 images for training, and 2875 for validation.\n",
        "total_train = 0\n",
        "for c in classes:\n",
        "  total_train += len(os.listdir(os.path.join(training_dir, c)))\n",
        "print('Total train:', total_train)\n",
        "\n",
        "total_validation = 0\n",
        "for c in classes:\n",
        "  total_validation += len(os.listdir(os.path.join(valid_dir, c)))\n",
        "print('Total validation:', total_validation)"
      ],
      "execution_count": 10,
      "outputs": [
        {
          "output_type": "stream",
          "name": "stdout",
          "text": [
            "Total train: 19202\n",
            "Total validation: 6403\n"
          ]
        }
      ]
    },
    {
      "cell_type": "markdown",
      "metadata": {
        "id": "XaKeta_MjlIe"
      },
      "source": [
        "# Data Augmentation"
      ]
    },
    {
      "cell_type": "code",
      "metadata": {
        "id": "js-AVsr_BsI5",
        "colab": {
          "base_uri": "https://localhost:8080/"
        },
        "outputId": "07f4f6a9-578a-4380-d1a9-45528a60f5b3"
      },
      "source": [
        "dir_augmented_data = os.path.join(data_path, 'preview')\n",
        "try:\n",
        "    ## if the preview folder does not exist, create\n",
        "    os.mkdir(dir_augmented_data)\n",
        "except:\n",
        "    ## if the preview folder exists, then remove\n",
        "    ## the contents (pictures) in the folder\n",
        "    for item in os.listdir(dir_augmented_data):\n",
        "        os.remove(dir_augmented_data + \"/\" + item)\n",
        "\n",
        "\n",
        "# Resize the images to (x, x) pixels\n",
        "target_size = (150, 150)\n",
        "\n",
        "# Set the batch size.\n",
        "batch_size = 32\n",
        "\n",
        "# Color channels\n",
        "color_channels = 3\n",
        "\n",
        "\n",
        "# Create the data generator for both sets, but now with image augmentation,\n",
        "# where random operations are made on images like random shifts or rotationson each batch,\n",
        "# stil do the rescale and set the target size.\n",
        "\n",
        "# datagen for training set\n",
        "train_datagen = tf.keras.preprocessing.image.ImageDataGenerator(\n",
        "                    rescale            = 1./255.,\n",
        "                    rotation_range     = 25,\n",
        "                    width_shift_range  = 0.15,\n",
        "                    height_shift_range = 0.15,\n",
        "                    horizontal_flip    = True,\n",
        "                    zoom_range         = 0.2)\n",
        "\n",
        "\n",
        "train_generator = train_datagen.flow_from_directory(training_dir,\n",
        "                                                    target_size = target_size,\n",
        "                                                    batch_size  = batch_size,\n",
        "                                                    shuffle     = True,\n",
        "                                                    class_mode  = 'categorical')\n",
        "\n",
        "\n",
        "# datagen for validation set\n",
        "validation_datagen  = tf.keras.preprocessing.image.ImageDataGenerator(rescale=1./255.)\n",
        "validation_generator = validation_datagen.flow_from_directory(valid_dir,\n",
        "                                                         target_size = target_size,\n",
        "                                                         batch_size  = batch_size,\n",
        "                                                         shuffle     = False,\n",
        "                                                         class_mode  = 'categorical')\n",
        "\n",
        "allclasses = train_generator.class_indices    \n",
        "print('ALL classes:')\n",
        "print(allclasses)"
      ],
      "execution_count": 11,
      "outputs": [
        {
          "output_type": "stream",
          "name": "stdout",
          "text": [
            "Found 19202 images belonging to 7 classes.\n",
            "Found 6403 images belonging to 7 classes.\n",
            "ALL classes:\n",
            "{'0_completely_round_smooth': 0, '1_in_between_smooth': 1, '2_cigar_shaped_smooth': 2, '3_lenticulars': 3, '4_barred_spirals': 4, '5_unbarred_spirals': 5, '6_irregular': 6}\n"
          ]
        }
      ]
    },
    {
      "cell_type": "code",
      "metadata": {
        "id": "LWZbSskHDCRL"
      },
      "source": [
        "# To see what's going on this data augmentation, run the following\n",
        "if False:\n",
        "  i = 0\n",
        "  for batch in train_datagen.flow_from_directory(training_dir,\n",
        "      target_size = target_size, batch_size  = batch_size,\n",
        "      save_to_dir = dir_augmented_data, save_prefix = 'pic', save_format = 'png',\n",
        "      color_mode = 'grayscale', shuffle = True, class_mode  = 'categorical'):\n",
        "\n",
        "      i += 1\n",
        "      if i > 5: # save 20 images\n",
        "          break  # otherwise the generator would loop indefinitely"
      ],
      "execution_count": 12,
      "outputs": []
    },
    {
      "cell_type": "markdown",
      "metadata": {
        "id": "7UwZ1nelD3XB"
      },
      "source": [
        "# **The model**"
      ]
    },
    {
      "cell_type": "code",
      "metadata": {
        "id": "unuFSoz9D2zd",
        "colab": {
          "base_uri": "https://localhost:8080/"
        },
        "outputId": "c28ad27b-85ab-430d-94ac-afd45f55ba0e"
      },
      "source": [
        "# Create the model, using a sequence of convolution and pooling layers,\n",
        "# followed by a dropout layer, a fully connected layer, and the last softmax layer.\n",
        "\n",
        "# Xem: https://forum.machinelearningcoban.com/t/tutorial-tinh-so-luong-parameters-trong-convolutional-neural-network/3638\n",
        "\n",
        "\n",
        "model = tf.keras.models.Sequential([\n",
        "    # first convolution layer, input is an 64x64 image x3 colors\n",
        "    # 64 filters, with a size of (3x3) for each filter (each filter has 3x3 = 9 weights)\n",
        "    # e.g: input = 28x28 pixels\n",
        "    #      kernel filter = (3,3)\n",
        "    #      No. of filters: 32\n",
        "    #     -> Output of Conv2D layer: (28 x 28 x 32)\n",
        "    tf.keras.layers.Conv2D(64, (3,3), activation='relu',\n",
        "                           input_shape=(target_size[0],target_size[1], color_channels)),\n",
        "    tf.keras.layers.MaxPooling2D(2, 2),\n",
        "    \n",
        "    # second convolution layer\n",
        "    tf.keras.layers.Conv2D(64, (3,3), activation='relu'),\n",
        "    tf.keras.layers.MaxPooling2D(2,2),\n",
        "    \n",
        "    # third convolution layer\n",
        "    tf.keras.layers.Conv2D(128, (3,3), activation='relu'),\n",
        "    tf.keras.layers.MaxPooling2D(2,2),\n",
        "    \n",
        "    # fourth convolution layer\n",
        "    tf.keras.layers.Conv2D(128, (3,3), activation='relu'),\n",
        "    tf.keras.layers.MaxPooling2D(2,2),\n",
        "    \n",
        "    # flatten the image pixels\n",
        "    tf.keras.layers.Flatten(),\n",
        "    tf.keras.layers.Dropout(0.5),\n",
        "    \n",
        "    # 512 neuron fully connected hidden layer\n",
        "    tf.keras.layers.Dense(512, activation='relu'),\n",
        "    tf.keras.layers.Dense(7, activation='softmax')\n",
        "])\n",
        "\n",
        "model.summary()  # inspect model"
      ],
      "execution_count": 13,
      "outputs": [
        {
          "output_type": "stream",
          "name": "stdout",
          "text": [
            "Model: \"sequential\"\n",
            "_________________________________________________________________\n",
            "Layer (type)                 Output Shape              Param #   \n",
            "=================================================================\n",
            "conv2d (Conv2D)              (None, 148, 148, 64)      1792      \n",
            "_________________________________________________________________\n",
            "max_pooling2d (MaxPooling2D) (None, 74, 74, 64)        0         \n",
            "_________________________________________________________________\n",
            "conv2d_1 (Conv2D)            (None, 72, 72, 64)        36928     \n",
            "_________________________________________________________________\n",
            "max_pooling2d_1 (MaxPooling2 (None, 36, 36, 64)        0         \n",
            "_________________________________________________________________\n",
            "conv2d_2 (Conv2D)            (None, 34, 34, 128)       73856     \n",
            "_________________________________________________________________\n",
            "max_pooling2d_2 (MaxPooling2 (None, 17, 17, 128)       0         \n",
            "_________________________________________________________________\n",
            "conv2d_3 (Conv2D)            (None, 15, 15, 128)       147584    \n",
            "_________________________________________________________________\n",
            "max_pooling2d_3 (MaxPooling2 (None, 7, 7, 128)         0         \n",
            "_________________________________________________________________\n",
            "flatten (Flatten)            (None, 6272)              0         \n",
            "_________________________________________________________________\n",
            "dropout (Dropout)            (None, 6272)              0         \n",
            "_________________________________________________________________\n",
            "dense (Dense)                (None, 512)               3211776   \n",
            "_________________________________________________________________\n",
            "dense_1 (Dense)              (None, 7)                 3591      \n",
            "=================================================================\n",
            "Total params: 3,475,527\n",
            "Trainable params: 3,475,527\n",
            "Non-trainable params: 0\n",
            "_________________________________________________________________\n"
          ]
        }
      ]
    },
    {
      "cell_type": "code",
      "metadata": {
        "id": "W7LGDQggh3IQ"
      },
      "source": [
        "# Compile the model to use a categorical cross entropy loss function, and a adam optmizier.\n",
        "from tensorflow.keras import losses\n",
        "loss_fcn = tf.keras.losses.CategoricalCrossentropy(from_logits=False,\n",
        "                                              label_smoothing=0,\n",
        "                                              reduction=\"auto\",\n",
        "                                              name=\"categorical_crossentropy\"\n",
        "                                            )\n",
        "model.compile(loss=loss_fcn,\n",
        "              optimizer='adam',\n",
        "              metrics=['accuracy'])"
      ],
      "execution_count": 14,
      "outputs": []
    },
    {
      "cell_type": "markdown",
      "metadata": {
        "id": "H-4AmqaAERs0"
      },
      "source": [
        "# **Train the model**"
      ]
    },
    {
      "cell_type": "code",
      "metadata": {
        "id": "CQhNBK5AkFy5"
      },
      "source": [
        "# Use callbacks\n",
        "early_stop = tf.keras.callbacks.EarlyStopping(monitor = 'val_accuracy',\n",
        "                                              mode = 'max',\n",
        "                                              patience=10,\n",
        "                                              restore_best_weights=False\n",
        "                                            )"
      ],
      "execution_count": 15,
      "outputs": []
    },
    {
      "cell_type": "code",
      "metadata": {
        "id": "SyZ5ojm9jQEd"
      },
      "source": [
        "reduce_lr = tf.keras.callbacks.ReduceLROnPlateau(monitor='val_loss',\n",
        "                                                 factor=0.1,\n",
        "                                                 patience=5,\n",
        "                                                 min_lr=0.001\n",
        "                                                )"
      ],
      "execution_count": 16,
      "outputs": []
    },
    {
      "cell_type": "code",
      "metadata": {
        "id": "z1qKZFywi8kT"
      },
      "source": [
        "def scheduler(epoch, lr):\n",
        "  if epoch < 10:\n",
        "    return lr\n",
        "  else:\n",
        "    return lr * tf.math.exp(-0.1)\n",
        "\n",
        "lr_callback = tf.keras.callbacks.LearningRateScheduler(scheduler)"
      ],
      "execution_count": 17,
      "outputs": []
    },
    {
      "cell_type": "code",
      "metadata": {
        "colab": {
          "base_uri": "https://localhost:8080/"
        },
        "id": "q9TTyCgqiWqB",
        "outputId": "cc5a7eb0-9be0-428e-a949-80e19812ad8e"
      },
      "source": [
        "EPOCHS = 100\n",
        "\n",
        "history = model.fit(train_generator,\n",
        "                    epochs=EPOCHS,\n",
        "                    steps_per_epoch=train_generator.samples//train_generator.batch_size,\n",
        "                    validation_data=validation_generator,\n",
        "                    validation_steps=len(validation_generator)//batch_size,\n",
        "                    callbacks=[early_stop, reduce_lr], # use callbacks\n",
        "                    verbose=True)"
      ],
      "execution_count": 18,
      "outputs": [
        {
          "output_type": "stream",
          "name": "stdout",
          "text": [
            "Epoch 1/100\n",
            "600/600 [==============================] - 3624s 6s/step - loss: 1.2483 - accuracy: 0.4865 - val_loss: 0.7016 - val_accuracy: 0.7240\n",
            "Epoch 2/100\n",
            "600/600 [==============================] - 201s 334ms/step - loss: 0.9450 - accuracy: 0.6307 - val_loss: 0.6189 - val_accuracy: 0.7604\n",
            "Epoch 3/100\n",
            "600/600 [==============================] - 195s 325ms/step - loss: 0.8209 - accuracy: 0.6897 - val_loss: 0.5809 - val_accuracy: 0.8073\n",
            "Epoch 4/100\n",
            "600/600 [==============================] - 194s 323ms/step - loss: 0.7280 - accuracy: 0.7275 - val_loss: 0.5327 - val_accuracy: 0.8802\n",
            "Epoch 5/100\n",
            "600/600 [==============================] - 194s 324ms/step - loss: 0.6741 - accuracy: 0.7442 - val_loss: 0.3578 - val_accuracy: 0.9167\n",
            "Epoch 6/100\n",
            "600/600 [==============================] - 193s 322ms/step - loss: 0.6329 - accuracy: 0.7610 - val_loss: 0.4859 - val_accuracy: 0.8542\n",
            "Epoch 7/100\n",
            "600/600 [==============================] - 198s 329ms/step - loss: 0.6068 - accuracy: 0.7729 - val_loss: 0.3034 - val_accuracy: 0.9427\n",
            "Epoch 8/100\n",
            "600/600 [==============================] - 197s 328ms/step - loss: 0.5797 - accuracy: 0.7841 - val_loss: 0.3657 - val_accuracy: 0.9062\n",
            "Epoch 9/100\n",
            "600/600 [==============================] - 195s 326ms/step - loss: 0.5604 - accuracy: 0.7887 - val_loss: 0.2561 - val_accuracy: 0.9427\n",
            "Epoch 10/100\n",
            "600/600 [==============================] - 194s 323ms/step - loss: 0.5596 - accuracy: 0.7910 - val_loss: 0.4782 - val_accuracy: 0.8490\n",
            "Epoch 11/100\n",
            "600/600 [==============================] - 201s 335ms/step - loss: 0.5656 - accuracy: 0.7869 - val_loss: 0.3448 - val_accuracy: 0.8698\n",
            "Epoch 12/100\n",
            "600/600 [==============================] - 199s 332ms/step - loss: 0.5339 - accuracy: 0.7973 - val_loss: 0.2688 - val_accuracy: 0.9323\n",
            "Epoch 13/100\n",
            "600/600 [==============================] - 195s 324ms/step - loss: 0.5267 - accuracy: 0.8023 - val_loss: 0.1496 - val_accuracy: 0.9740\n",
            "Epoch 14/100\n",
            "600/600 [==============================] - 200s 333ms/step - loss: 0.5245 - accuracy: 0.8022 - val_loss: 0.3431 - val_accuracy: 0.9062\n",
            "Epoch 15/100\n",
            "600/600 [==============================] - 202s 337ms/step - loss: 0.5087 - accuracy: 0.8085 - val_loss: 0.3023 - val_accuracy: 0.9010\n",
            "Epoch 16/100\n",
            "600/600 [==============================] - 205s 342ms/step - loss: 0.5066 - accuracy: 0.8111 - val_loss: 0.2928 - val_accuracy: 0.9271\n",
            "Epoch 17/100\n",
            "600/600 [==============================] - 204s 340ms/step - loss: 0.5072 - accuracy: 0.8118 - val_loss: 0.1801 - val_accuracy: 0.9583\n",
            "Epoch 18/100\n",
            "600/600 [==============================] - 202s 336ms/step - loss: 0.4987 - accuracy: 0.8118 - val_loss: 0.1995 - val_accuracy: 0.9375\n",
            "Epoch 19/100\n",
            "600/600 [==============================] - 202s 337ms/step - loss: 0.4909 - accuracy: 0.8191 - val_loss: 0.3383 - val_accuracy: 0.9010\n",
            "Epoch 20/100\n",
            "600/600 [==============================] - 203s 339ms/step - loss: 0.4876 - accuracy: 0.8164 - val_loss: 0.3422 - val_accuracy: 0.9167\n",
            "Epoch 21/100\n",
            "600/600 [==============================] - 202s 337ms/step - loss: 0.4846 - accuracy: 0.8191 - val_loss: 0.2279 - val_accuracy: 0.9375\n",
            "Epoch 22/100\n",
            "600/600 [==============================] - 203s 338ms/step - loss: 0.4732 - accuracy: 0.8233 - val_loss: 0.3164 - val_accuracy: 0.9115\n",
            "Epoch 23/100\n",
            "600/600 [==============================] - 197s 328ms/step - loss: 0.4799 - accuracy: 0.8244 - val_loss: 0.1834 - val_accuracy: 0.9583\n"
          ]
        }
      ]
    },
    {
      "cell_type": "code",
      "metadata": {
        "id": "oGGosCyAZxOT",
        "colab": {
          "base_uri": "https://localhost:8080/"
        },
        "outputId": "b3040dd1-be1a-489c-bf17-761b149a77da"
      },
      "source": [
        "print(data_path + '/train_hist_dict_07classes.pkl')\n",
        "with open(data_path + '/train_hist_dict_07classes.pkl', 'wb') as file_hist:\n",
        "        pickle.dump(history.history, file_hist)"
      ],
      "execution_count": 19,
      "outputs": [
        {
          "output_type": "stream",
          "name": "stdout",
          "text": [
            "/content/gdrive/My Drive/data/galaxy_data/train_hist_dict_07classes.pkl\n"
          ]
        }
      ]
    },
    {
      "cell_type": "markdown",
      "metadata": {
        "id": "mdrdAAe7EY-P"
      },
      "source": [
        "**Finish training -> plot graphs**"
      ]
    },
    {
      "cell_type": "code",
      "metadata": {
        "id": "JmehHs96EZZ_",
        "colab": {
          "base_uri": "https://localhost:8080/",
          "height": 499
        },
        "outputId": "72cde42e-30ee-4c45-9224-14838fc8466e"
      },
      "source": [
        "acc = history.history['accuracy']\n",
        "val_acc = history.history['val_accuracy']\n",
        "\n",
        "loss = history.history['loss']\n",
        "val_loss = history.history['val_loss']\n",
        "\n",
        "epochs_range = range(len(acc))  # range for the number of epochs\n",
        "\n",
        "plt.figure(figsize=(16, 8))\n",
        "plt.subplot(1, 2, 1)\n",
        "plt.plot(epochs_range, acc, label='Training Accuracy')\n",
        "plt.plot(epochs_range, val_acc, label='Validation Accuracy')\n",
        "plt.legend(loc='lower right')\n",
        "plt.title('Training and Validation Accuracy')\n",
        "\n",
        "plt.subplot(1, 2, 2)\n",
        "plt.plot(epochs_range, loss, label='Training Loss')\n",
        "plt.plot(epochs_range, val_loss, label='Validation Loss')\n",
        "plt.legend(loc='upper right')\n",
        "plt.title('Training and Validation Loss')\n",
        "plt.savefig(data_path + '/plots.png')\n",
        "plt.show()"
      ],
      "execution_count": 20,
      "outputs": [
        {
          "output_type": "display_data",
          "data": {
            "image/png": "[encoded data removed]",
            "text/plain": [
              "<Figure size 1152x576 with 2 Axes>"
            ]
          },
          "metadata": {
            "needs_background": "light"
          }
        }
      ]
    },
    {
      "cell_type": "markdown",
      "metadata": {
        "id": "1kNbUvFLEge9"
      },
      "source": [
        "# **Save the trained model**"
      ]
    },
    {
      "cell_type": "code",
      "metadata": {
        "id": "EEq7g0wZEjiP"
      },
      "source": [
        "model.save(data_path + '/galaxy_convnet_rgb_07classes.h5')"
      ],
      "execution_count": 21,
      "outputs": []
    }
  ]
}