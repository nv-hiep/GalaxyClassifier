{
  "nbformat": 4,
  "nbformat_minor": 0,
  "metadata": {
    "colab": {
      "name": "read_history.ipynb",
      "provenance": [],
      "private_outputs": true,
      "collapsed_sections": []
    },
    "kernelspec": {
      "name": "python3",
      "display_name": "Python 3"
    },
    "accelerator": "GPU"
  },
  "cells": [
    {
      "cell_type": "markdown",
      "metadata": {
        "id": "twluDsqOaqRW"
      },
      "source": [
        "**Open this notebook from google drive**<br>\n",
        "**Go to \"Edit\" -> \"Notebook settings\" and enable GPU.**\n"
      ]
    },
    {
      "cell_type": "code",
      "metadata": {
        "id": "srBiJiFEaKl1"
      },
      "source": [
        "# Check if NVIDIA GPU is enabled\n",
        "!nvidia-smi"
      ],
      "execution_count": null,
      "outputs": []
    },
    {
      "cell_type": "markdown",
      "metadata": {
        "id": "sj3eAw1OXOnB"
      },
      "source": [
        "**Connect and authorize google drive with google colab:**"
      ]
    },
    {
      "cell_type": "code",
      "metadata": {
        "id": "PjjcQSpya_FR"
      },
      "source": [
        "from google.colab import drive\n",
        "drive.mount('/content/gdrive')\n",
        "!ls"
      ],
      "execution_count": null,
      "outputs": []
    },
    {
      "cell_type": "markdown",
      "metadata": {
        "id": "h5GywMhIKCd0"
      },
      "source": [
        "**Open our project \"Galaxy Classifier\" direct0ry in google drive:**"
      ]
    },
    {
      "cell_type": "code",
      "metadata": {
        "id": "iYM4wmy-cFlK"
      },
      "source": [
        "# %cd /content/gdrive/My Drive/\n",
        "%cd /content/gdrive/My Drive/Colab Notebooks/galaxy_classifier/\n",
        "!ls"
      ],
      "execution_count": null,
      "outputs": []
    },
    {
      "cell_type": "markdown",
      "metadata": {
        "id": "O7CYSllU-tyf"
      },
      "source": [
        "**Data for our \"Galaxy Classifier\" directory in google drive:**"
      ]
    },
    {
      "cell_type": "code",
      "metadata": {
        "id": "zbtyUhYA_AxZ"
      },
      "source": [
        "%cd /content/gdrive/My Drive/data/galaxy_data/\n",
        "!ls"
      ],
      "execution_count": null,
      "outputs": []
    },
    {
      "cell_type": "markdown",
      "metadata": {
        "id": "24u5FY2ZKbrc"
      },
      "source": [
        "**Install all required libraries for our project:**"
      ]
    },
    {
      "cell_type": "code",
      "metadata": {
        "id": "adhpOaKT9lWC"
      },
      "source": [
        "# !pip install -r ./requirements.txt"
      ],
      "execution_count": null,
      "outputs": []
    },
    {
      "cell_type": "code",
      "metadata": {
        "id": "M3cWo7hhc-qO"
      },
      "source": [
        "import os, random, shutil\n",
        "import numpy as np\n",
        "import matplotlib\n",
        "import matplotlib.pyplot as plt\n",
        "%matplotlib inline  \n",
        "\n",
        "import tensorflow as tf\n",
        "print(tf.__version__)\n",
        "tf.test.gpu_device_name()"
      ],
      "execution_count": null,
      "outputs": []
    },
    {
      "cell_type": "markdown",
      "metadata": {
        "id": "DDmBbAUKLUkB"
      },
      "source": [
        "**Test if TensorFlow works with gpu for you, in output should see similar results:**\n",
        "```\n",
        "2.2.0\n",
        "'/device:GPU:0'\n",
        "```"
      ]
    },
    {
      "cell_type": "code",
      "metadata": {
        "id": "Z9d185J9_xQZ"
      },
      "source": [
        "current_dir = os.getcwd()\n",
        "print(current_dir)\n",
        "\n",
        "data_path    = '/content/gdrive/My Drive/data/galaxy_data'\n",
        "training_dir = os.path.join(data_path, 'training')\n",
        "valid_dir    = os.path.join(data_path, 'validation')"
      ],
      "execution_count": null,
      "outputs": []
    },
    {
      "cell_type": "markdown",
      "metadata": {
        "id": "mdrdAAe7EY-P"
      },
      "source": [
        "**Finish training -> plot graphs**"
      ]
    },
    {
      "cell_type": "code",
      "metadata": {
        "id": "Up-Jp8H61Wqw"
      },
      "source": [
        "import pickle\n",
        "with open(data_path + '/train_hist_dict.pkl', 'rb') as f:\n",
        "    history = pickle.load(f)"
      ],
      "execution_count": null,
      "outputs": []
    },
    {
      "cell_type": "code",
      "metadata": {
        "id": "JmehHs96EZZ_"
      },
      "source": [
        "acc = history['accuracy']\n",
        "val_acc = history['val_accuracy']\n",
        "\n",
        "loss = history['loss']\n",
        "val_loss = history['val_loss']\n",
        "\n",
        "epochs_range = range(len(acc))  # range for the number of epochs\n",
        "print(epochs_range)\n",
        "\n",
        "plt.figure(figsize=(16, 8))\n",
        "plt.subplot(1, 2, 1)\n",
        "plt.plot(epochs_range, acc, label='Training Accuracy')\n",
        "plt.plot(epochs_range, val_acc, label='Validation Accuracy')\n",
        "plt.legend(loc='lower right')\n",
        "plt.title('Training and Validation Accuracy')\n",
        "\n",
        "plt.subplot(1, 2, 2)\n",
        "plt.plot(epochs_range, loss, label='Training Loss')\n",
        "plt.plot(epochs_range, val_loss, label='Validation Loss')\n",
        "plt.legend(loc='upper right')\n",
        "plt.title('Training and Validation Loss')\n",
        "plt.savefig(data_path + '/plots.png')\n",
        "plt.show()"
      ],
      "execution_count": null,
      "outputs": []
    }
  ]
}