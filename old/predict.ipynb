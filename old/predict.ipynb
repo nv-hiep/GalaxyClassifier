{
  "nbformat": 4,
  "nbformat_minor": 0,
  "metadata": {
    "colab": {
      "name": "predict.ipynb",
      "provenance": [],
      "private_outputs": true,
      "collapsed_sections": []
    },
    "kernelspec": {
      "name": "python3",
      "display_name": "Python 3"
    },
    "accelerator": "GPU"
  },
  "cells": [
    {
      "cell_type": "markdown",
      "metadata": {
        "id": "twluDsqOaqRW"
      },
      "source": [
        "**Open this notebook from google drive**<br>\n",
        "**Go to \"Edit\" -> \"Notebook settings\" and enable GPU.**\n"
      ]
    },
    {
      "cell_type": "markdown",
      "metadata": {
        "id": "sj3eAw1OXOnB"
      },
      "source": [
        "**Connect and authorize google drive with google colab:**"
      ]
    },
    {
      "cell_type": "code",
      "metadata": {
        "id": "PjjcQSpya_FR"
      },
      "source": [
        "from google.colab import drive\n",
        "drive.mount('/content/gdrive')\n",
        "!ls"
      ],
      "execution_count": null,
      "outputs": []
    },
    {
      "cell_type": "markdown",
      "metadata": {
        "id": "h5GywMhIKCd0"
      },
      "source": [
        "**Open our project \"Galaxy Classifier\" direct0ry in google drive:**"
      ]
    },
    {
      "cell_type": "code",
      "metadata": {
        "id": "iYM4wmy-cFlK"
      },
      "source": [
        "# %cd /content/gdrive/My Drive/\n",
        "%cd /content/gdrive/My Drive/Colab Notebooks/galaxy_classifier/\n",
        "!ls"
      ],
      "execution_count": null,
      "outputs": []
    },
    {
      "cell_type": "markdown",
      "metadata": {
        "id": "O7CYSllU-tyf"
      },
      "source": [
        "**Data for our \"Galaxy Classifier\" directory in google drive:**"
      ]
    },
    {
      "cell_type": "code",
      "metadata": {
        "id": "zbtyUhYA_AxZ"
      },
      "source": [
        "%cd /content/gdrive/My Drive/data/galaxy_data/\n",
        "!ls"
      ],
      "execution_count": null,
      "outputs": []
    },
    {
      "cell_type": "markdown",
      "metadata": {
        "id": "24u5FY2ZKbrc"
      },
      "source": [
        "**Install all required libraries for our project:**"
      ]
    },
    {
      "cell_type": "code",
      "metadata": {
        "id": "adhpOaKT9lWC"
      },
      "source": [
        "# !pip install -r ./requirements.txt"
      ],
      "execution_count": null,
      "outputs": []
    },
    {
      "cell_type": "code",
      "metadata": {
        "id": "M3cWo7hhc-qO"
      },
      "source": [
        "from numpy        import loadtxt\n",
        "from keras.models import load_model\n",
        "from keras.preprocessing import image\n",
        "\n",
        "import matplotlib.pyplot as plt\n",
        "import numpy as np\n",
        "import os\n",
        "\n",
        "%matplotlib inline  "
      ],
      "execution_count": null,
      "outputs": []
    },
    {
      "cell_type": "code",
      "metadata": {
        "id": "-6ViPM_x5mWB"
      },
      "source": [
        "def _load_image(img_path, show=False):\n",
        "\n",
        "    img = image.load_img(img_path, target_size = target_size)\n",
        "    img_tensor = image.img_to_array(img)                    # (height, width, channels)\n",
        "    img_tensor = np.expand_dims(img_tensor, axis=0)         # (1, height, width, channels), add a dimension because the model expects this shape: (batch_size, height, width, channels)\n",
        "    img_tensor /= 255.                                      # imshow expects values in the range [0, 1]\n",
        "\n",
        "    if show:\n",
        "        plt.imshow(img_tensor[0])                           \n",
        "        plt.axis('off')\n",
        "        plt.show()\n",
        "\n",
        "    return img_tensor"
      ],
      "execution_count": null,
      "outputs": []
    },
    {
      "cell_type": "code",
      "metadata": {
        "id": "spPYNwwr5YG5"
      },
      "source": [
        "# color channels\n",
        "color_channels = 3\n",
        "\n",
        "# Resize the images to (64, 64) pixels\n",
        "target_size = (128, 128)"
      ],
      "execution_count": null,
      "outputs": []
    },
    {
      "cell_type": "code",
      "metadata": {
        "id": "Z9d185J9_xQZ"
      },
      "source": [
        "current_dir = os.getcwd()\n",
        "print(current_dir)\n",
        "\n",
        "data_path    = '/content/gdrive/My Drive/data/galaxy_data'\n",
        "training_dir = os.path.join(data_path, 'training')\n",
        "valid_dir    = os.path.join(data_path, 'validation')"
      ],
      "execution_count": null,
      "outputs": []
    },
    {
      "cell_type": "markdown",
      "metadata": {
        "id": "mdrdAAe7EY-P"
      },
      "source": [
        "**Finish training -> plot graphs**"
      ]
    },
    {
      "cell_type": "code",
      "metadata": {
        "id": "Up-Jp8H61Wqw"
      },
      "source": [
        "import pickle\n",
        "with open(data_path + '/train_hist_dict.pkl', 'rb') as f:\n",
        "    history = pickle.load(f)"
      ],
      "execution_count": null,
      "outputs": []
    },
    {
      "cell_type": "code",
      "metadata": {
        "id": "JmehHs96EZZ_"
      },
      "source": [
        "acc = history['accuracy']\n",
        "val_acc = history['val_accuracy']\n",
        "\n",
        "loss = history['loss']\n",
        "val_loss = history['val_loss']\n",
        "\n",
        "epochs_range = range(len(acc))  # range for the number of epochs\n",
        "print(epochs_range)\n",
        "\n",
        "plt.figure(figsize=(16, 8))\n",
        "plt.subplot(1, 2, 1)\n",
        "plt.plot(epochs_range, acc, label='Training Accuracy')\n",
        "plt.plot(epochs_range, val_acc, label='Validation Accuracy')\n",
        "plt.legend(loc='lower right')\n",
        "plt.title('Training and Validation Accuracy')\n",
        "\n",
        "plt.subplot(1, 2, 2)\n",
        "plt.plot(epochs_range, loss, label='Training Loss')\n",
        "plt.plot(epochs_range, val_loss, label='Validation Loss')\n",
        "plt.legend(loc='upper right')\n",
        "plt.title('Training and Validation Loss')\n",
        "plt.savefig(data_path + '/plots.png')\n",
        "plt.show()"
      ],
      "execution_count": null,
      "outputs": []
    },
    {
      "cell_type": "code",
      "metadata": {
        "id": "O_BYY3gO5qcR"
      },
      "source": [
        "allclasses = ['elliptical', 'lenticular', 'spiral']\n",
        "\n",
        "# load model\n",
        "model = load_model(data_path + '/galaxy_convnet_rgb.h5')\n",
        "\n",
        "# summarize model.\n",
        "# model.summary()\n",
        "\n",
        "# Load image\n",
        "img_path  = data_path + '/test/elliptical-galaxy-eg1.jpg'\n",
        "img_path  = data_path + '/test/elliptical-galaxy-eg2.jpg'\n",
        "img_path  = data_path + '/test/elliptical-galaxy-eg3.jpg'\n",
        "# img_path  = data_path + '/test/spiral-galaxy_eg1.jpg'\n",
        "# img_path  = data_path + '/test/spiral-galaxy_eg2.jpg'\n",
        "# img_path  = data_path + '/test/spiral-galaxy_eg3.jpg'\n",
        "img_path  = data_path + '/test/lenticular-galaxy-eg1.jpg'\n",
        "# img_path  = data_path + '/test/lenticular-galaxy-eg3.jpg'\n",
        "\n",
        "ximg_pred = _load_image(img_path, show=True)\n",
        "\n",
        "# check prediction\n",
        "pred = model.predict(ximg_pred)\n",
        "\n",
        "# Generate arg maxes for predictions\n",
        "print('All classes: ', allclasses)\n",
        "print('Prediction: ')\n",
        "print('Class predictions with probabilities: ', *pred)\n",
        "classes = np.argmax(pred, axis = 1)\n",
        "print('Predicted class-ID: ', *classes)\n",
        "print('Predited class: ', allclasses[ classes[0] ] )"
      ],
      "execution_count": null,
      "outputs": []
    }
  ]
}